{
 "cells": [
  {
   "cell_type": "code",
   "execution_count": 1,
   "metadata": {},
   "outputs": [
    {
     "name": "stdout",
     "output_type": "stream",
     "text": [
      "Collecting requests\n",
      "  Using cached requests-2.31.0-py3-none-any.whl (62 kB)\n",
      "Collecting beautifulsoup4\n",
      "  Using cached beautifulsoup4-4.12.2-py3-none-any.whl (142 kB)\n",
      "Collecting charset-normalizer<4,>=2\n",
      "  Downloading charset_normalizer-3.3.2-cp38-cp38-win_amd64.whl (99 kB)\n",
      "Collecting urllib3<3,>=1.21.1\n",
      "  Using cached urllib3-2.0.7-py3-none-any.whl (124 kB)\n",
      "Collecting idna<4,>=2.5\n",
      "  Using cached idna-3.4-py3-none-any.whl (61 kB)\n",
      "Collecting certifi>=2017.4.17\n",
      "  Using cached certifi-2023.7.22-py3-none-any.whl (158 kB)\n",
      "Collecting soupsieve>1.2\n",
      "  Using cached soupsieve-2.5-py3-none-any.whl (36 kB)\n",
      "Installing collected packages: urllib3, soupsieve, idna, charset-normalizer, certifi, requests, beautifulsoup4\n",
      "Successfully installed beautifulsoup4-4.12.2 certifi-2023.7.22 charset-normalizer-3.3.2 idna-3.4 requests-2.31.0 soupsieve-2.5 urllib3-2.0.7\n"
     ]
    },
    {
     "name": "stderr",
     "output_type": "stream",
     "text": [
      "WARNING: You are using pip version 21.1.1; however, version 23.3.1 is available.\n",
      "You should consider upgrading via the 'f:\\maven-repo\\venv\\scripts\\python.exe -m pip install --upgrade pip' command.\n"
     ]
    }
   ],
   "source": [
    "!pip install requests beautifulsoup4\n"
   ]
  },
  {
   "cell_type": "markdown",
   "metadata": {},
   "source": [
    "# Download whole repository from Maven"
   ]
  },
  {
   "cell_type": "code",
   "execution_count": null,
   "metadata": {},
   "outputs": [],
   "source": [
    "import os\n",
    "import requests\n",
    "from bs4 import BeautifulSoup\n",
    "from urllib.parse import urljoin\n",
    "\n",
    "\n",
    "destination_folder = \"local-maven-repo\"\n",
    "maven_url = 'https://repo1.maven.org/maven2/'\n",
    "\n",
    "\n",
    "def download_file(url, destination):\n",
    "    response = requests.get(url, stream=True)\n",
    "    # if destination folder doesn't exist, create it\n",
    "    if not os.path.exists(os.path.dirname(destination)):\n",
    "        os.makedirs(os.path.dirname(destination))\n",
    "    with open(destination, 'wb') as f:\n",
    "        for chunk in response.iter_content(chunk_size=1024):\n",
    "            if chunk:\n",
    "                f.write(chunk)\n",
    "\n",
    "\n",
    "def download_artifacts(repository_url, destination_folder):\n",
    "    response = requests.get(repository_url)\n",
    "    soup = BeautifulSoup(response.text, 'html.parser')\n",
    "    links = soup.find_all('a')\n",
    "    print(f'Found {len(links)} links in {repository_url}')\n",
    "\n",
    "    for link in links[1:]:\n",
    "        artifact_url = urljoin(repository_url, link.get('href'))\n",
    "        if artifact_url.endswith('/'):\n",
    "            # It's a directory, recurse into it\n",
    "            print(f'Found directory: {artifact_url}')\n",
    "            download_artifacts(artifact_url, os.path.join(\n",
    "                destination_folder, link.text))\n",
    "        else:\n",
    "            # It's a file, download it\n",
    "            print(f'Downloading: {artifact_url}')\n",
    "            print(\"File size: \", requests.head(\n",
    "                artifact_url).headers['Content-Length'])\n",
    "            file_destination = os.path.join(destination_folder, link.text)\n",
    "            print(f'Downloading: {artifact_url}')\n",
    "            download_file(artifact_url, file_destination)\n",
    "\n",
    "\n",
    "if not os.path.exists(destination_folder):\n",
    "    os.makedirs(destination_folder)\n",
    "\n",
    "download_artifacts(maven_url, destination_folder)"
   ]
  },
  {
   "cell_type": "markdown",
   "metadata": {},
   "source": [
    "# Download selected versions from Maven"
   ]
  },
  {
   "cell_type": "code",
   "execution_count": null,
   "metadata": {},
   "outputs": [],
   "source": [
    "import os\n",
    "import requests\n",
    "from bs4 import BeautifulSoup\n",
    "from urllib.parse import urljoin, urlparse\n",
    "\n",
    "\n",
    "def download_file(url, destination):\n",
    "    response = requests.get(url, stream=True)\n",
    "    with open(destination, 'wb') as f:\n",
    "        for chunk in response.iter_content(chunk_size=1024):\n",
    "            if chunk:\n",
    "                f.write(chunk)\n",
    "\n",
    "\n",
    "def download_artifacts(repository_url, base_destination_folder):\n",
    "    response = requests.get(repository_url)\n",
    "    soup = BeautifulSoup(response.text, 'html.parser')\n",
    "\n",
    "    for link in soup.find_all('a')[1:]:\n",
    "        artifact_url = urljoin(repository_url, link.get('href'))\n",
    "        if artifact_url.endswith('/'):\n",
    "            # It's a directory, recurse into it\n",
    "            artifact_name = os.path.basename(urlparse(artifact_url).path)\n",
    "            destination_folder = os.path.join(\n",
    "                base_destination_folder, artifact_name)\n",
    "            download_artifacts(artifact_url, destination_folder)\n",
    "        else:\n",
    "            # It's a file, download it\n",
    "            file_destination = os.path.join(base_destination_folder, link.text)\n",
    "            print(f'Downloading: {artifact_url}')\n",
    "            download_file(artifact_url, file_destination)\n",
    "\n",
    "\n",
    "if __name__ == \"__main__\":\n",
    "    # List of Maven repository URLs\n",
    "    URLS = [\n",
    "        # 'https://repo1.maven.org/maven2/org/springframework/boot/spring-boot-dependencies/3.1.5/',\n",
    "        # 'https://repo1.maven.org/maven2/org/springframework/boot/spring-boot-starter-json/3.1.5/',\n",
    "        # 'https://repo1.maven.org/maven2/org/springframework/boot/spring-boot-starter-log4j/1.3.8.RELEASE/',\n",
    "        # 'https://repo1.maven.org/maven2/org/springframework/boot/spring-boot-starter-oauth2-client/3.1.5/',\n",
    "        # 'https://repo1.maven.org/maven2/org/springframework/boot/spring-boot-starter-parent/3.1.5/',\n",
    "        # 'https://repo1.maven.org/maven2/org/springframework/boot/spring-boot-starter-test/3.1.5/',\n",
    "        # 'https://repo1.maven.org/maven2/org/springframework/boot/spring-boot-starter-tomcat/3.1.5/',\n",
    "        # 'https://repo1.maven.org/maven2/org/springframework/boot/spring-boot-starter-web/3.1.5/',\n",
    "        # 'https://repo1.maven.org/maven2/org/springframework/spring-web/6.0.9/'\n",
    "        # 'https://repo1.maven.org/maven2/org/springframework/spring-hibernate/1.2.9/'\n",
    "        # 'https://repo1.maven.org/maven2/org/springframework/data/spring-data-jpa/3.1.5/'\n",
    "        # 'https://repo1.maven.org/maven2/org/springframework/data/spring-data-jpa/3.1.4/'\n",
    "        # 'https://repo1.maven.org/maven2/org/springframework/boot/spring-boot-starter-data-jpa/3.1.5/',\n",
    "        # 'https://repo1.maven.org/maven2/org/springframework/boot/spring-boot-starter-data-jpa/3.1.4/',\n",
    "        # 'https://repo1.maven.org/maven2/org/springframework/boot/spring-boot-starter-data-jdbc/3.1.5/',\n",
    "        # 'https://repo1.maven.org/maven2/org/springframework/boot/spring-boot-starter-security/3.1.5/',\n",
    "        # 'https://repo1.maven.org/maven2/org/springframework/boot/spring-boot-maven-plugin/3.1.5/',\n",
    "        # 'https://repo1.maven.org/maven2/org/springframework/boot/spring-boot-starter-validation/3.1.5/',\n",
    "        # 'https://repo1.maven.org/maven2/mysql/mysql-connector-java/8.0.9-rc/',\n",
    "        # 'https://repo1.maven.org/maven2/mysql/mysql-connector-java/8.0.8-dmr/',\n",
    "        # 'https://repo1.maven.org/maven2/mysql/mysql-connector-java/8.0.7-dmr/',\n",
    "        # 'https://repo1.maven.org/maven2/mysql/mysql-connector-java/8.0.33/',\n",
    "        # 'https://repo1.maven.org/maven2/mysql/mysql-connector-java/8.0.32/',\n",
    "        # 'https://repo1.maven.org/maven2/mysql/mysql-connector-java/8.0.31/',\n",
    "        # 'https://repo1.maven.org/maven2/org/springframework/boot/spring-boot-starter-thymeleaf/3.1.5/',\n",
    "        # 'https://repo1.maven.org/maven2/org/springframework/boot/spring-boot-devtools/3.1.5/'\n",
    "    ]\n",
    "\n",
    "    for url in URLS:\n",
    "        # Extract the relative path from the URL\n",
    "        relative_path = urlparse(url).path.lstrip(\"/\")\n",
    "        destination_folder = os.path.join(\"maven-repo\", relative_path)\n",
    "\n",
    "        if not os.path.exists(destination_folder):\n",
    "            os.makedirs(destination_folder)\n",
    "\n",
    "        download_artifacts(url, destination_folder)"
   ]
  },
  {
   "cell_type": "code",
   "execution_count": null,
   "metadata": {},
   "outputs": [],
   "source": []
  },
  {
   "cell_type": "code",
   "execution_count": null,
   "metadata": {},
   "outputs": [],
   "source": []
  }
 ],
 "metadata": {
  "kernelspec": {
   "display_name": "venv",
   "language": "python",
   "name": "python3"
  },
  "language_info": {
   "codemirror_mode": {
    "name": "ipython",
    "version": 3
   },
   "file_extension": ".py",
   "mimetype": "text/x-python",
   "name": "python",
   "nbconvert_exporter": "python",
   "pygments_lexer": "ipython3",
   "version": "3.8.10"
  }
 },
 "nbformat": 4,
 "nbformat_minor": 2
}
